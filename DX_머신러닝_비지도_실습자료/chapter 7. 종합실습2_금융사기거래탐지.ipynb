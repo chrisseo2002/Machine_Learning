{
 "cells": [
  {
   "cell_type": "markdown",
   "metadata": {
    "id": "H2PiE6pYmBv7"
   },
   "source": [
    "# 종합실습2 : 금융 사기거래 탐지\n",
    "\n"
   ]
  },
  {
   "cell_type": "markdown",
   "metadata": {
    "id": "eQ6zIu5HP-TR"
   },
   "source": [
    "## 1.환경준비"
   ]
  },
  {
   "cell_type": "markdown",
   "metadata": {
    "id": "dBemUrbOP-TS"
   },
   "source": [
    "### (1) 라이브러리 로딩"
   ]
  },
  {
   "cell_type": "code",
   "execution_count": 1,
   "metadata": {
    "id": "yFfi2rWqP-TT"
   },
   "outputs": [],
   "source": [
    "import pandas as pd\n",
    "import numpy as np\n",
    "import matplotlib.pyplot as plt\n",
    "import seaborn as sns\n",
    "from tqdm import tqdm\n",
    "import warnings\n",
    "warnings.simplefilter(action='ignore', category=Warning)\n",
    "\n",
    "from sklearn.metrics import *\n",
    "from sklearn.model_selection import train_test_split\n",
    "from sklearn.ensemble import IsolationForest"
   ]
  },
  {
   "cell_type": "markdown",
   "metadata": {
    "id": "0idcAKU0P-TT"
   },
   "source": [
    "### (2) 데이터셋 불러오기"
   ]
  },
  {
   "cell_type": "code",
   "execution_count": 2,
   "metadata": {
    "id": "2zyxe46-Bdms"
   },
   "outputs": [
    {
     "data": {
      "text/html": [
       "<div>\n",
       "<style scoped>\n",
       "    .dataframe tbody tr th:only-of-type {\n",
       "        vertical-align: middle;\n",
       "    }\n",
       "\n",
       "    .dataframe tbody tr th {\n",
       "        vertical-align: top;\n",
       "    }\n",
       "\n",
       "    .dataframe thead th {\n",
       "        text-align: right;\n",
       "    }\n",
       "</style>\n",
       "<table border=\"1\" class=\"dataframe\">\n",
       "  <thead>\n",
       "    <tr style=\"text-align: right;\">\n",
       "      <th></th>\n",
       "      <th>x1</th>\n",
       "      <th>x2</th>\n",
       "      <th>x3</th>\n",
       "      <th>x4</th>\n",
       "      <th>x5</th>\n",
       "      <th>x6</th>\n",
       "      <th>x7</th>\n",
       "      <th>x8</th>\n",
       "      <th>x9</th>\n",
       "      <th>x10</th>\n",
       "      <th>x11</th>\n",
       "      <th>x12</th>\n",
       "      <th>x13</th>\n",
       "      <th>x14</th>\n",
       "      <th>x15</th>\n",
       "      <th>x16</th>\n",
       "      <th>x17</th>\n",
       "      <th>x18</th>\n",
       "      <th>amount</th>\n",
       "      <th>fraud</th>\n",
       "    </tr>\n",
       "  </thead>\n",
       "  <tbody>\n",
       "    <tr>\n",
       "      <th>0</th>\n",
       "      <td>0.733</td>\n",
       "      <td>-0.544</td>\n",
       "      <td>-0.601</td>\n",
       "      <td>0.020</td>\n",
       "      <td>0.181</td>\n",
       "      <td>0.172</td>\n",
       "      <td>-1.768</td>\n",
       "      <td>-0.083</td>\n",
       "      <td>-0.323</td>\n",
       "      <td>0.110</td>\n",
       "      <td>-0.019</td>\n",
       "      <td>-0.457</td>\n",
       "      <td>-0.088</td>\n",
       "      <td>0.167</td>\n",
       "      <td>0.270</td>\n",
       "      <td>-0.513</td>\n",
       "      <td>-0.006</td>\n",
       "      <td>0.044</td>\n",
       "      <td>199.45</td>\n",
       "      <td>0</td>\n",
       "    </tr>\n",
       "    <tr>\n",
       "      <th>1</th>\n",
       "      <td>1.942</td>\n",
       "      <td>-0.056</td>\n",
       "      <td>1.319</td>\n",
       "      <td>1.197</td>\n",
       "      <td>0.367</td>\n",
       "      <td>0.265</td>\n",
       "      <td>0.006</td>\n",
       "      <td>0.310</td>\n",
       "      <td>-0.522</td>\n",
       "      <td>-0.223</td>\n",
       "      <td>-0.268</td>\n",
       "      <td>-0.595</td>\n",
       "      <td>0.345</td>\n",
       "      <td>-1.040</td>\n",
       "      <td>-0.432</td>\n",
       "      <td>0.280</td>\n",
       "      <td>-0.018</td>\n",
       "      <td>-0.057</td>\n",
       "      <td>1.98</td>\n",
       "      <td>0</td>\n",
       "    </tr>\n",
       "    <tr>\n",
       "      <th>2</th>\n",
       "      <td>-0.223</td>\n",
       "      <td>1.182</td>\n",
       "      <td>0.166</td>\n",
       "      <td>-1.328</td>\n",
       "      <td>0.151</td>\n",
       "      <td>-0.101</td>\n",
       "      <td>-0.489</td>\n",
       "      <td>0.476</td>\n",
       "      <td>0.034</td>\n",
       "      <td>-0.174</td>\n",
       "      <td>0.404</td>\n",
       "      <td>1.288</td>\n",
       "      <td>-0.076</td>\n",
       "      <td>0.071</td>\n",
       "      <td>-0.787</td>\n",
       "      <td>-0.218</td>\n",
       "      <td>0.382</td>\n",
       "      <td>0.259</td>\n",
       "      <td>0.89</td>\n",
       "      <td>0</td>\n",
       "    </tr>\n",
       "    <tr>\n",
       "      <th>3</th>\n",
       "      <td>0.672</td>\n",
       "      <td>-1.261</td>\n",
       "      <td>-0.602</td>\n",
       "      <td>-0.866</td>\n",
       "      <td>-0.335</td>\n",
       "      <td>0.875</td>\n",
       "      <td>0.786</td>\n",
       "      <td>0.012</td>\n",
       "      <td>1.338</td>\n",
       "      <td>0.655</td>\n",
       "      <td>0.201</td>\n",
       "      <td>0.078</td>\n",
       "      <td>-0.527</td>\n",
       "      <td>0.133</td>\n",
       "      <td>0.745</td>\n",
       "      <td>0.041</td>\n",
       "      <td>-0.074</td>\n",
       "      <td>0.049</td>\n",
       "      <td>340.31</td>\n",
       "      <td>0</td>\n",
       "    </tr>\n",
       "    <tr>\n",
       "      <th>4</th>\n",
       "      <td>-3.368</td>\n",
       "      <td>0.099</td>\n",
       "      <td>0.458</td>\n",
       "      <td>-1.572</td>\n",
       "      <td>0.672</td>\n",
       "      <td>-3.188</td>\n",
       "      <td>1.019</td>\n",
       "      <td>-0.590</td>\n",
       "      <td>1.930</td>\n",
       "      <td>0.265</td>\n",
       "      <td>0.861</td>\n",
       "      <td>1.249</td>\n",
       "      <td>1.851</td>\n",
       "      <td>-0.117</td>\n",
       "      <td>1.220</td>\n",
       "      <td>0.000</td>\n",
       "      <td>1.036</td>\n",
       "      <td>0.004</td>\n",
       "      <td>320.01</td>\n",
       "      <td>1</td>\n",
       "    </tr>\n",
       "  </tbody>\n",
       "</table>\n",
       "</div>"
      ],
      "text/plain": [
       "      x1     x2     x3     x4     x5     x6     x7     x8     x9    x10  \\\n",
       "0  0.733 -0.544 -0.601  0.020  0.181  0.172 -1.768 -0.083 -0.323  0.110   \n",
       "1  1.942 -0.056  1.319  1.197  0.367  0.265  0.006  0.310 -0.522 -0.223   \n",
       "2 -0.223  1.182  0.166 -1.328  0.151 -0.101 -0.489  0.476  0.034 -0.174   \n",
       "3  0.672 -1.261 -0.602 -0.866 -0.335  0.875  0.786  0.012  1.338  0.655   \n",
       "4 -3.368  0.099  0.458 -1.572  0.672 -3.188  1.019 -0.590  1.930  0.265   \n",
       "\n",
       "     x11    x12    x13    x14    x15    x16    x17    x18  amount  fraud  \n",
       "0 -0.019 -0.457 -0.088  0.167  0.270 -0.513 -0.006  0.044  199.45      0  \n",
       "1 -0.268 -0.595  0.345 -1.040 -0.432  0.280 -0.018 -0.057    1.98      0  \n",
       "2  0.404  1.288 -0.076  0.071 -0.787 -0.218  0.382  0.259    0.89      0  \n",
       "3  0.201  0.078 -0.527  0.133  0.745  0.041 -0.074  0.049  340.31      0  \n",
       "4  0.861  1.249  1.851 -0.117  1.220  0.000  1.036  0.004  320.01      1  "
      ]
     },
     "execution_count": 2,
     "metadata": {},
     "output_type": "execute_result"
    }
   ],
   "source": [
    "path = \"https://raw.githubusercontent.com/DA4BAM/dataset/master/creditcard_simple.csv\"\n",
    "data = pd.read_csv(path)\n",
    "data.head()"
   ]
  },
  {
   "cell_type": "code",
   "execution_count": 3,
   "metadata": {
    "id": "7rm7Km-tgQQG"
   },
   "outputs": [
    {
     "name": "stdout",
     "output_type": "stream",
     "text": [
      "0    19508\n",
      "1      492\n",
      "Name: fraud, dtype: int64\n",
      "====================================================================================================\n",
      "0    0.9754\n",
      "1    0.0246\n",
      "Name: fraud, dtype: float64\n"
     ]
    }
   ],
   "source": [
    "print(data['fraud'].value_counts())\n",
    "print('='* 100)\n",
    "print(data['fraud'].value_counts()/data.shape[0])"
   ]
  },
  {
   "cell_type": "markdown",
   "metadata": {
    "id": "hDC9Z8vdP-TU"
   },
   "source": [
    "## 2.데이터 준비"
   ]
  },
  {
   "cell_type": "markdown",
   "metadata": {
    "id": "9VHT2bGTcPM7"
   },
   "source": [
    "* 데이터 분할\n",
    "    * x, y 나누기\n",
    "    * train, val 나누기 : validation set을 6000건으로"
   ]
  },
  {
   "cell_type": "code",
   "execution_count": 4,
   "metadata": {
    "id": "i12ZLg6MKxEt"
   },
   "outputs": [],
   "source": [
    "target = 'fraud'\n",
    "x = data.drop(target, axis=1)\n",
    "y = data[target]"
   ]
  },
  {
   "cell_type": "code",
   "execution_count": 5,
   "metadata": {
    "id": "QycPweFycQoo"
   },
   "outputs": [],
   "source": [
    "x_train, x_val, y_train, y_val = train_test_split(x, y, test_size=6000, random_state=20)"
   ]
  },
  {
   "cell_type": "code",
   "execution_count": 6,
   "metadata": {
    "id": "CvCO5Pru_vuo"
   },
   "outputs": [
    {
     "data": {
      "text/plain": [
       "((14000, 19), (14000,))"
      ]
     },
     "execution_count": 6,
     "metadata": {},
     "output_type": "execute_result"
    }
   ],
   "source": [
    "x_train.shape, y_train.shape"
   ]
  },
  {
   "cell_type": "code",
   "execution_count": 7,
   "metadata": {
    "id": "_T_NGk-OKzYN"
   },
   "outputs": [
    {
     "data": {
      "text/html": [
       "<div>\n",
       "<style scoped>\n",
       "    .dataframe tbody tr th:only-of-type {\n",
       "        vertical-align: middle;\n",
       "    }\n",
       "\n",
       "    .dataframe tbody tr th {\n",
       "        vertical-align: top;\n",
       "    }\n",
       "\n",
       "    .dataframe thead th {\n",
       "        text-align: right;\n",
       "    }\n",
       "</style>\n",
       "<table border=\"1\" class=\"dataframe\">\n",
       "  <thead>\n",
       "    <tr style=\"text-align: right;\">\n",
       "      <th></th>\n",
       "      <th>x1</th>\n",
       "      <th>x2</th>\n",
       "      <th>x3</th>\n",
       "      <th>x4</th>\n",
       "      <th>x5</th>\n",
       "      <th>x6</th>\n",
       "      <th>x7</th>\n",
       "      <th>x8</th>\n",
       "      <th>x9</th>\n",
       "      <th>x10</th>\n",
       "      <th>x11</th>\n",
       "      <th>x12</th>\n",
       "      <th>x13</th>\n",
       "      <th>x14</th>\n",
       "      <th>x15</th>\n",
       "      <th>x16</th>\n",
       "      <th>x17</th>\n",
       "      <th>x18</th>\n",
       "      <th>amount</th>\n",
       "    </tr>\n",
       "  </thead>\n",
       "  <tbody>\n",
       "    <tr>\n",
       "      <th>9812</th>\n",
       "      <td>-0.308</td>\n",
       "      <td>1.004</td>\n",
       "      <td>0.311</td>\n",
       "      <td>-0.382</td>\n",
       "      <td>-0.015</td>\n",
       "      <td>-0.759</td>\n",
       "      <td>0.753</td>\n",
       "      <td>1.590</td>\n",
       "      <td>0.564</td>\n",
       "      <td>0.125</td>\n",
       "      <td>-0.132</td>\n",
       "      <td>-0.329</td>\n",
       "      <td>0.047</td>\n",
       "      <td>0.057</td>\n",
       "      <td>-0.657</td>\n",
       "      <td>0.193</td>\n",
       "      <td>0.142</td>\n",
       "      <td>0.158</td>\n",
       "      <td>1.98</td>\n",
       "    </tr>\n",
       "    <tr>\n",
       "      <th>7615</th>\n",
       "      <td>0.104</td>\n",
       "      <td>0.860</td>\n",
       "      <td>-0.291</td>\n",
       "      <td>1.674</td>\n",
       "      <td>-1.239</td>\n",
       "      <td>-0.263</td>\n",
       "      <td>-0.471</td>\n",
       "      <td>0.767</td>\n",
       "      <td>0.608</td>\n",
       "      <td>-0.272</td>\n",
       "      <td>1.575</td>\n",
       "      <td>-0.158</td>\n",
       "      <td>-0.199</td>\n",
       "      <td>-0.758</td>\n",
       "      <td>0.728</td>\n",
       "      <td>0.537</td>\n",
       "      <td>0.277</td>\n",
       "      <td>0.226</td>\n",
       "      <td>22.74</td>\n",
       "    </tr>\n",
       "    <tr>\n",
       "      <th>14799</th>\n",
       "      <td>0.585</td>\n",
       "      <td>-2.524</td>\n",
       "      <td>-2.102</td>\n",
       "      <td>-0.115</td>\n",
       "      <td>0.062</td>\n",
       "      <td>-1.869</td>\n",
       "      <td>-0.842</td>\n",
       "      <td>0.488</td>\n",
       "      <td>-0.511</td>\n",
       "      <td>0.426</td>\n",
       "      <td>-0.035</td>\n",
       "      <td>-0.777</td>\n",
       "      <td>-0.135</td>\n",
       "      <td>0.164</td>\n",
       "      <td>-0.198</td>\n",
       "      <td>-0.451</td>\n",
       "      <td>-0.032</td>\n",
       "      <td>0.089</td>\n",
       "      <td>435.70</td>\n",
       "    </tr>\n",
       "    <tr>\n",
       "      <th>16457</th>\n",
       "      <td>-1.473</td>\n",
       "      <td>-0.317</td>\n",
       "      <td>1.548</td>\n",
       "      <td>-0.706</td>\n",
       "      <td>0.247</td>\n",
       "      <td>-0.544</td>\n",
       "      <td>0.380</td>\n",
       "      <td>-1.508</td>\n",
       "      <td>-0.679</td>\n",
       "      <td>0.161</td>\n",
       "      <td>0.176</td>\n",
       "      <td>0.307</td>\n",
       "      <td>0.038</td>\n",
       "      <td>0.234</td>\n",
       "      <td>0.121</td>\n",
       "      <td>-0.527</td>\n",
       "      <td>0.088</td>\n",
       "      <td>0.141</td>\n",
       "      <td>15.54</td>\n",
       "    </tr>\n",
       "    <tr>\n",
       "      <th>6563</th>\n",
       "      <td>1.924</td>\n",
       "      <td>-0.349</td>\n",
       "      <td>-0.100</td>\n",
       "      <td>-0.350</td>\n",
       "      <td>-0.096</td>\n",
       "      <td>0.462</td>\n",
       "      <td>0.546</td>\n",
       "      <td>-0.459</td>\n",
       "      <td>0.313</td>\n",
       "      <td>-0.063</td>\n",
       "      <td>0.020</td>\n",
       "      <td>0.101</td>\n",
       "      <td>0.102</td>\n",
       "      <td>-0.456</td>\n",
       "      <td>-0.170</td>\n",
       "      <td>0.230</td>\n",
       "      <td>-0.050</td>\n",
       "      <td>-0.059</td>\n",
       "      <td>54.95</td>\n",
       "    </tr>\n",
       "    <tr>\n",
       "      <th>...</th>\n",
       "      <td>...</td>\n",
       "      <td>...</td>\n",
       "      <td>...</td>\n",
       "      <td>...</td>\n",
       "      <td>...</td>\n",
       "      <td>...</td>\n",
       "      <td>...</td>\n",
       "      <td>...</td>\n",
       "      <td>...</td>\n",
       "      <td>...</td>\n",
       "      <td>...</td>\n",
       "      <td>...</td>\n",
       "      <td>...</td>\n",
       "      <td>...</td>\n",
       "      <td>...</td>\n",
       "      <td>...</td>\n",
       "      <td>...</td>\n",
       "      <td>...</td>\n",
       "      <td>...</td>\n",
       "    </tr>\n",
       "    <tr>\n",
       "      <th>2301</th>\n",
       "      <td>2.042</td>\n",
       "      <td>0.396</td>\n",
       "      <td>1.100</td>\n",
       "      <td>-0.732</td>\n",
       "      <td>-0.235</td>\n",
       "      <td>0.348</td>\n",
       "      <td>-1.486</td>\n",
       "      <td>-0.150</td>\n",
       "      <td>-0.255</td>\n",
       "      <td>-0.274</td>\n",
       "      <td>-0.077</td>\n",
       "      <td>-0.097</td>\n",
       "      <td>-0.040</td>\n",
       "      <td>0.110</td>\n",
       "      <td>0.494</td>\n",
       "      <td>-0.491</td>\n",
       "      <td>-0.012</td>\n",
       "      <td>-0.028</td>\n",
       "      <td>17.37</td>\n",
       "    </tr>\n",
       "    <tr>\n",
       "      <th>15290</th>\n",
       "      <td>1.942</td>\n",
       "      <td>0.536</td>\n",
       "      <td>1.197</td>\n",
       "      <td>0.551</td>\n",
       "      <td>0.059</td>\n",
       "      <td>-1.230</td>\n",
       "      <td>-1.150</td>\n",
       "      <td>-1.837</td>\n",
       "      <td>-0.838</td>\n",
       "      <td>-0.318</td>\n",
       "      <td>-0.013</td>\n",
       "      <td>-0.066</td>\n",
       "      <td>0.066</td>\n",
       "      <td>0.086</td>\n",
       "      <td>0.232</td>\n",
       "      <td>0.008</td>\n",
       "      <td>-0.076</td>\n",
       "      <td>-0.071</td>\n",
       "      <td>11.24</td>\n",
       "    </tr>\n",
       "    <tr>\n",
       "      <th>1714</th>\n",
       "      <td>-0.092</td>\n",
       "      <td>0.537</td>\n",
       "      <td>0.801</td>\n",
       "      <td>-0.441</td>\n",
       "      <td>-0.188</td>\n",
       "      <td>-0.074</td>\n",
       "      <td>0.701</td>\n",
       "      <td>-0.372</td>\n",
       "      <td>0.284</td>\n",
       "      <td>0.241</td>\n",
       "      <td>-0.264</td>\n",
       "      <td>-0.734</td>\n",
       "      <td>0.158</td>\n",
       "      <td>-1.008</td>\n",
       "      <td>-0.294</td>\n",
       "      <td>0.198</td>\n",
       "      <td>0.215</td>\n",
       "      <td>0.096</td>\n",
       "      <td>89.99</td>\n",
       "    </tr>\n",
       "    <tr>\n",
       "      <th>12521</th>\n",
       "      <td>1.180</td>\n",
       "      <td>0.447</td>\n",
       "      <td>-0.542</td>\n",
       "      <td>-1.166</td>\n",
       "      <td>-0.285</td>\n",
       "      <td>-0.195</td>\n",
       "      <td>1.292</td>\n",
       "      <td>0.854</td>\n",
       "      <td>-0.501</td>\n",
       "      <td>-0.059</td>\n",
       "      <td>-0.176</td>\n",
       "      <td>-0.465</td>\n",
       "      <td>0.147</td>\n",
       "      <td>0.905</td>\n",
       "      <td>0.341</td>\n",
       "      <td>-0.669</td>\n",
       "      <td>0.033</td>\n",
       "      <td>0.039</td>\n",
       "      <td>9.99</td>\n",
       "    </tr>\n",
       "    <tr>\n",
       "      <th>7965</th>\n",
       "      <td>-0.578</td>\n",
       "      <td>-0.951</td>\n",
       "      <td>-0.653</td>\n",
       "      <td>-0.974</td>\n",
       "      <td>-0.919</td>\n",
       "      <td>-1.897</td>\n",
       "      <td>1.094</td>\n",
       "      <td>0.219</td>\n",
       "      <td>-0.535</td>\n",
       "      <td>-0.608</td>\n",
       "      <td>0.415</td>\n",
       "      <td>-0.832</td>\n",
       "      <td>0.107</td>\n",
       "      <td>-0.010</td>\n",
       "      <td>-0.340</td>\n",
       "      <td>-0.459</td>\n",
       "      <td>0.190</td>\n",
       "      <td>-0.050</td>\n",
       "      <td>49.00</td>\n",
       "    </tr>\n",
       "  </tbody>\n",
       "</table>\n",
       "<p>6000 rows × 19 columns</p>\n",
       "</div>"
      ],
      "text/plain": [
       "          x1     x2     x3     x4     x5     x6     x7     x8     x9    x10  \\\n",
       "9812  -0.308  1.004  0.311 -0.382 -0.015 -0.759  0.753  1.590  0.564  0.125   \n",
       "7615   0.104  0.860 -0.291  1.674 -1.239 -0.263 -0.471  0.767  0.608 -0.272   \n",
       "14799  0.585 -2.524 -2.102 -0.115  0.062 -1.869 -0.842  0.488 -0.511  0.426   \n",
       "16457 -1.473 -0.317  1.548 -0.706  0.247 -0.544  0.380 -1.508 -0.679  0.161   \n",
       "6563   1.924 -0.349 -0.100 -0.350 -0.096  0.462  0.546 -0.459  0.313 -0.063   \n",
       "...      ...    ...    ...    ...    ...    ...    ...    ...    ...    ...   \n",
       "2301   2.042  0.396  1.100 -0.732 -0.235  0.348 -1.486 -0.150 -0.255 -0.274   \n",
       "15290  1.942  0.536  1.197  0.551  0.059 -1.230 -1.150 -1.837 -0.838 -0.318   \n",
       "1714  -0.092  0.537  0.801 -0.441 -0.188 -0.074  0.701 -0.372  0.284  0.241   \n",
       "12521  1.180  0.447 -0.542 -1.166 -0.285 -0.195  1.292  0.854 -0.501 -0.059   \n",
       "7965  -0.578 -0.951 -0.653 -0.974 -0.919 -1.897  1.094  0.219 -0.535 -0.608   \n",
       "\n",
       "         x11    x12    x13    x14    x15    x16    x17    x18  amount  \n",
       "9812  -0.132 -0.329  0.047  0.057 -0.657  0.193  0.142  0.158    1.98  \n",
       "7615   1.575 -0.158 -0.199 -0.758  0.728  0.537  0.277  0.226   22.74  \n",
       "14799 -0.035 -0.777 -0.135  0.164 -0.198 -0.451 -0.032  0.089  435.70  \n",
       "16457  0.176  0.307  0.038  0.234  0.121 -0.527  0.088  0.141   15.54  \n",
       "6563   0.020  0.101  0.102 -0.456 -0.170  0.230 -0.050 -0.059   54.95  \n",
       "...      ...    ...    ...    ...    ...    ...    ...    ...     ...  \n",
       "2301  -0.077 -0.097 -0.040  0.110  0.494 -0.491 -0.012 -0.028   17.37  \n",
       "15290 -0.013 -0.066  0.066  0.086  0.232  0.008 -0.076 -0.071   11.24  \n",
       "1714  -0.264 -0.734  0.158 -1.008 -0.294  0.198  0.215  0.096   89.99  \n",
       "12521 -0.176 -0.465  0.147  0.905  0.341 -0.669  0.033  0.039    9.99  \n",
       "7965   0.415 -0.832  0.107 -0.010 -0.340 -0.459  0.190 -0.050   49.00  \n",
       "\n",
       "[6000 rows x 19 columns]"
      ]
     },
     "execution_count": 7,
     "metadata": {},
     "output_type": "execute_result"
    }
   ],
   "source": [
    "x_val"
   ]
  },
  {
   "cell_type": "markdown",
   "metadata": {
    "id": "XiD3ZxjrghkX"
   },
   "source": [
    "## 3.모델링1\n",
    "* Isolation Forest 모델을 생성합니다.\n",
    "    * Contamination 값을 조절하면서 모델을 최적화 합시다.\n",
    "    * 성능은 사기거래에 대한 f1 스코어 입니다."
   ]
  },
  {
   "cell_type": "code",
   "execution_count": 8,
   "metadata": {
    "id": "n2LbVYMoHJOn"
   },
   "outputs": [
    {
     "name": "stderr",
     "output_type": "stream",
     "text": [
      "100%|██████████| 150/150 [01:08<00:00,  2.20it/s]\n"
     ]
    }
   ],
   "source": [
    "cont = np.linspace(0.001, 0.3, 150)\n",
    "f1_list=[]\n",
    "for c in tqdm(cont):\n",
    "    model = IsolationForest(contamination=c, random_state=20)\n",
    "    model.fit(x_train)\n",
    "    pred = model.predict(x_val)\n",
    "    pred = np.where(pred == 1, 0, 1)\n",
    "    \n",
    "    f1_list.append(f1_score(y_val, pred))"
   ]
  },
  {
   "cell_type": "code",
   "execution_count": 9,
   "metadata": {
    "id": "IuGLZIt8H9pi"
   },
   "outputs": [
    {
     "data": {
      "image/png": "[encoded data removed]",
      "text/plain": [
       "<Figure size 640x480 with 1 Axes>"
      ]
     },
     "metadata": {},
     "output_type": "display_data"
    }
   ],
   "source": [
    "plt.plot(cont, f1_list)\n",
    "plt.grid()\n",
    "plt.show()"
   ]
  },
  {
   "cell_type": "code",
   "execution_count": 10,
   "metadata": {
    "id": "jn8U4POsIevh"
   },
   "outputs": [],
   "source": [
    "c = cont[np.argmax(f1_list)]"
   ]
  },
  {
   "cell_type": "code",
   "execution_count": 11,
   "metadata": {
    "id": "At9H5e0PIooE"
   },
   "outputs": [
    {
     "name": "stdout",
     "output_type": "stream",
     "text": [
      "[[5651  196]\n",
      " [  95   58]]\n",
      "              precision    recall  f1-score   support\n",
      "\n",
      "           0       0.98      0.97      0.97      5847\n",
      "           1       0.23      0.38      0.29       153\n",
      "\n",
      "    accuracy                           0.95      6000\n",
      "   macro avg       0.61      0.67      0.63      6000\n",
      "weighted avg       0.96      0.95      0.96      6000\n",
      "\n"
     ]
    }
   ],
   "source": [
    "model = IsolationForest(contamination=c, random_state=20)\n",
    "model.fit(x_train)\n",
    "pred = model.predict(x_val)\n",
    "pred = np.where(pred == 1, 0, 1)\n",
    "print(confusion_matrix(y_val, pred))\n",
    "print(classification_report(y_val, pred))"
   ]
  },
  {
   "cell_type": "markdown",
   "metadata": {
    "id": "uUOdxXmOLQdn"
   },
   "source": [
    "## 4.모델링2\n",
    "* Isolation Forest 모델을 생성합니다.\n",
    "    * 모델링1에서 찾은 contamination 값을 고정시켜놓고\n",
    "    * n_estimators 값을 조절해 봅시다.\n",
    "        * 범위는 여러분이 알아서 지정하세요."
   ]
  },
  {
   "cell_type": "code",
   "execution_count": 12,
   "metadata": {
    "id": "T4FhPLLULQdn"
   },
   "outputs": [
    {
     "name": "stderr",
     "output_type": "stream",
     "text": [
      "100%|██████████| 30/30 [03:23<00:00,  6.78s/it]\n"
     ]
    }
   ],
   "source": [
    "esti = range(100, 3001, 100)\n",
    "f1_list=[]\n",
    "for t in tqdm(esti):\n",
    "    model = IsolationForest(contamination=c, n_estimators=t, random_state=20)\n",
    "    model.fit(x_train)\n",
    "    pred = model.predict(x_val)\n",
    "    pred = np.where(pred == 1, 0, 1)\n",
    "    \n",
    "    f1_list.append(f1_score(y_val, pred))"
   ]
  },
  {
   "cell_type": "code",
   "execution_count": 13,
   "metadata": {
    "id": "hvX3i4r-LQdo"
   },
   "outputs": [
    {
     "data": {
      "image/png": "[encoded data removed]",
      "text/plain": [
       "<Figure size 640x480 with 1 Axes>"
      ]
     },
     "metadata": {},
     "output_type": "display_data"
    }
   ],
   "source": [
    "plt.plot(esti, f1_list)\n",
    "plt.grid()\n",
    "plt.show()"
   ]
  },
  {
   "cell_type": "code",
   "execution_count": 14,
   "metadata": {
    "id": "tD1jfZFQLQdo"
   },
   "outputs": [],
   "source": [
    "t = esti[np.argmax(f1_list)]"
   ]
  },
  {
   "cell_type": "code",
   "execution_count": 15,
   "metadata": {
    "id": "B1DkebhqLQdp"
   },
   "outputs": [
    {
     "name": "stdout",
     "output_type": "stream",
     "text": [
      "[[5661  186]\n",
      " [  89   64]]\n",
      "              precision    recall  f1-score   support\n",
      "\n",
      "           0       0.98      0.97      0.98      5847\n",
      "           1       0.26      0.42      0.32       153\n",
      "\n",
      "    accuracy                           0.95      6000\n",
      "   macro avg       0.62      0.69      0.65      6000\n",
      "weighted avg       0.97      0.95      0.96      6000\n",
      "\n"
     ]
    }
   ],
   "source": [
    "model = IsolationForest(contamination=c, n_estimators=t, random_state=20)\n",
    "model.fit(x_train)\n",
    "pred = model.predict(x_val)\n",
    "pred = np.where(pred == 1, 0, 1)\n",
    "print(confusion_matrix(y_val, pred))\n",
    "print(classification_report(y_val, pred))"
   ]
  },
  {
   "cell_type": "markdown",
   "metadata": {
    "id": "1XxP_HFHh9JI"
   },
   "source": [
    "## 5.[추가]모델링3\n",
    "* One Class SVM 모델을 생성합니다.\n",
    "    * nu, gamma를 조절하면서 최고의 성능(f1)을 얻는 모델을 생성해 봅시다.\n",
    "    * isolation forest 모델과 비교해 봅시다."
   ]
  },
  {
   "cell_type": "code",
   "execution_count": 16,
   "metadata": {
    "id": "87co7ug9h9Jb"
   },
   "outputs": [],
   "source": [
    "from sklearn.preprocessing import MinMaxScaler\n",
    "from sklearn.svm import OneClassSVM"
   ]
  },
  {
   "cell_type": "code",
   "execution_count": 17,
   "metadata": {
    "id": "dnEa1b9Oh9Jb"
   },
   "outputs": [],
   "source": [
    "scaler = MinMaxScaler()\n",
    "\n",
    "x_train_s = scaler.fit_transform(x_train)\n",
    "x_val_s = scaler.transform(x_val)"
   ]
  },
  {
   "cell_type": "code",
   "execution_count": 18,
   "metadata": {
    "id": "mYLwBppIh9Jb"
   },
   "outputs": [],
   "source": [
    "x_train0 = x_train_s[y_train == 0]"
   ]
  },
  {
   "cell_type": "code",
   "execution_count": 19,
   "metadata": {
    "id": "KFZISOvHh9Jc"
   },
   "outputs": [
    {
     "name": "stdout",
     "output_type": "stream",
     "text": [
      "[[2899 2948]\n",
      " [  20  133]]\n",
      "              precision    recall  f1-score   support\n",
      "\n",
      "           0       0.99      0.50      0.66      5847\n",
      "           1       0.04      0.87      0.08       153\n",
      "\n",
      "    accuracy                           0.51      6000\n",
      "   macro avg       0.52      0.68      0.37      6000\n",
      "weighted avg       0.97      0.51      0.65      6000\n",
      "\n"
     ]
    }
   ],
   "source": [
    "model = OneClassSVM()\n",
    "model.fit(x_train0)\n",
    "pred = model.predict(x_val_s)\n",
    "pred = np.where(pred == 1, 0, 1)\n",
    "\n",
    "print(confusion_matrix(y_val, pred))\n",
    "print(classification_report(y_val, pred))"
   ]
  },
  {
   "cell_type": "code",
   "execution_count": null,
   "metadata": {
    "id": "PtW9dMhfh9Jc"
   },
   "outputs": [],
   "source": []
  }
 ],
 "metadata": {
  "colab": {
   "provenance": [],
   "toc_visible": true
  },
  "kernelspec": {
   "display_name": "Python 3 (ipykernel)",
   "language": "python",
   "name": "python3"
  },
  "language_info": {
   "codemirror_mode": {
    "name": "ipython",
    "version": 3
   },
   "file_extension": ".py",
   "mimetype": "text/x-python",
   "name": "python",
   "nbconvert_exporter": "python",
   "pygments_lexer": "ipython3",
   "version": "3.11.3"
  }
 },
 "nbformat": 4,
 "nbformat_minor": 4
}
